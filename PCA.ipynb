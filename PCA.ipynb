{
  "nbformat": 4,
  "nbformat_minor": 0,
  "metadata": {
    "colab": {
      "provenance": [],
      "authorship_tag": "ABX9TyPqV1fxT0IIoRT9Wgs6dLVS",
      "include_colab_link": true
    },
    "kernelspec": {
      "name": "python3",
      "display_name": "Python 3"
    },
    "language_info": {
      "name": "python"
    }
  },
  "cells": [
    {
      "cell_type": "markdown",
      "metadata": {
        "id": "view-in-github",
        "colab_type": "text"
      },
      "source": [
        "<a href=\"https://colab.research.google.com/github/Moiches/PCA_ONE/blob/main/PCA.ipynb\" target=\"_parent\"><img src=\"https://colab.research.google.com/assets/colab-badge.svg\" alt=\"Open In Colab\"/></a>"
      ]
    },
    {
      "cell_type": "code",
      "execution_count": null,
      "metadata": {
        "colab": {
          "base_uri": "https://localhost:8080/"
        },
        "id": "xh7fj_mF_zca",
        "outputId": "a3cd32f0-e805-467b-ab3c-72e80f40853c"
      },
      "outputs": [
        {
          "output_type": "stream",
          "name": "stdout",
          "text": [
            "3.7.1\n"
          ]
        }
      ],
      "source": [
        "import numpy as np\n",
        "import matplotlib as plt\n",
        "print(plt.__version__)\n",
        "\n"
      ]
    },
    {
      "cell_type": "code",
      "source": [
        "pip install --upgrade matplotlib\n"
      ],
      "metadata": {
        "colab": {
          "base_uri": "https://localhost:8080/"
        },
        "id": "k0XLjr3fEORK",
        "outputId": "230f6ff7-2ab0-49fe-cdad-b670a8d6214e"
      },
      "execution_count": null,
      "outputs": [
        {
          "output_type": "stream",
          "name": "stdout",
          "text": [
            "Requirement already satisfied: matplotlib in /usr/local/lib/python3.10/dist-packages (3.7.1)\n",
            "Collecting matplotlib\n",
            "  Downloading matplotlib-3.9.1-cp310-cp310-manylinux_2_17_x86_64.manylinux2014_x86_64.whl.metadata (11 kB)\n",
            "Requirement already satisfied: contourpy>=1.0.1 in /usr/local/lib/python3.10/dist-packages (from matplotlib) (1.2.1)\n",
            "Requirement already satisfied: cycler>=0.10 in /usr/local/lib/python3.10/dist-packages (from matplotlib) (0.12.1)\n",
            "Requirement already satisfied: fonttools>=4.22.0 in /usr/local/lib/python3.10/dist-packages (from matplotlib) (4.53.1)\n",
            "Requirement already satisfied: kiwisolver>=1.3.1 in /usr/local/lib/python3.10/dist-packages (from matplotlib) (1.4.5)\n",
            "Requirement already satisfied: numpy>=1.23 in /usr/local/lib/python3.10/dist-packages (from matplotlib) (1.26.4)\n",
            "Requirement already satisfied: packaging>=20.0 in /usr/local/lib/python3.10/dist-packages (from matplotlib) (24.1)\n",
            "Requirement already satisfied: pillow>=8 in /usr/local/lib/python3.10/dist-packages (from matplotlib) (9.4.0)\n",
            "Requirement already satisfied: pyparsing>=2.3.1 in /usr/local/lib/python3.10/dist-packages (from matplotlib) (3.1.2)\n",
            "Requirement already satisfied: python-dateutil>=2.7 in /usr/local/lib/python3.10/dist-packages (from matplotlib) (2.8.2)\n",
            "Requirement already satisfied: six>=1.5 in /usr/local/lib/python3.10/dist-packages (from python-dateutil>=2.7->matplotlib) (1.16.0)\n",
            "Downloading matplotlib-3.9.1-cp310-cp310-manylinux_2_17_x86_64.manylinux2014_x86_64.whl (8.3 MB)\n",
            "\u001b[2K   \u001b[90m━━━━━━━━━━━━━━━━━━━━━━━━━━━━━━━━━━━━━━━━\u001b[0m \u001b[32m8.3/8.3 MB\u001b[0m \u001b[31m42.0 MB/s\u001b[0m eta \u001b[36m0:00:00\u001b[0m\n",
            "\u001b[?25hInstalling collected packages: matplotlib\n",
            "  Attempting uninstall: matplotlib\n",
            "    Found existing installation: matplotlib 3.7.1\n",
            "    Uninstalling matplotlib-3.7.1:\n",
            "      Successfully uninstalled matplotlib-3.7.1\n",
            "Successfully installed matplotlib-3.9.1\n"
          ]
        }
      ]
    },
    {
      "cell_type": "code",
      "source": [
        "# PCA PRINCIPAL COMPONENT ANALYSIS\n"
      ],
      "metadata": {
        "id": "pHCYzhCt_-Sy"
      },
      "execution_count": null,
      "outputs": []
    },
    {
      "cell_type": "markdown",
      "source": [
        "PCA PRINCIPAL COMPONENT ANALYSIS ES UNA TECNICA CAPAZ DE REDUCIR LAS DIMESIONES DE UN DATASET Y PASAR DE M DIMESIONES A  N DIMESIONES, DONDE M ES MAS PEQUEÑO QUE N, MABTENIENDO EN PRIMER LUGAR A LAS VARIABLES QUE GUARDAN ENTRE SI UNA MAYOR VARIANZA ENTRE SI O MEJOR DICHO COVARIANZA"
      ],
      "metadata": {
        "id": "ophHvtokADsK"
      }
    },
    {
      "cell_type": "code",
      "source": [
        "# DATOS\n",
        "x = np.random.rand(100,2)\n",
        "# Generar una matriz de 10x4 con números enteros aleatorios en el rango [0, 10)\n",
        "y = np.random.randint(0, 10, size=(10, 4))\n"
      ],
      "metadata": {
        "id": "IwVa2LMmBQDS"
      },
      "execution_count": null,
      "outputs": []
    },
    {
      "cell_type": "code",
      "source": [
        "plt.axhline(y=0, color='black', linewidth = 0.5)\n",
        "plt.axvline(0,color = 'black', linewidth = 0.5)\n",
        "plt.xlim([-5,5])\n",
        "plt.ylim([-5,5])\n",
        "plt.scatter(x[:,0],x[:,1])\n",
        "plt.show()"
      ],
      "metadata": {
        "colab": {
          "base_uri": "https://localhost:8080/",
          "height": 430
        },
        "id": "2UOtJWW1BxoS",
        "outputId": "f85d8a8b-1d52-4c60-d901-8aa9e1814cc0"
      },
      "execution_count": null,
      "outputs": [
        {
          "output_type": "display_data",
          "data": {
            "text/plain": [
              "<Figure size 640x480 with 1 Axes>"
            ],
            "image/png": "[encoded data removed]"
          },
          "metadata": {}
        }
      ]
    },
    {
      "cell_type": "code",
      "source": [
        "def standarize_data(data):\n",
        "    mean = np.mean(data, axis=0)\n",
        "    std = np.std(data, axis=0)\n",
        "    x_std = (data - mean) / std\n",
        "    return x_std\n"
      ],
      "metadata": {
        "id": "95xgEPcAEthT"
      },
      "execution_count": null,
      "outputs": []
    },
    {
      "cell_type": "code",
      "source": [
        "x_std = standarize_data(x)\n",
        "\n",
        "plt.axhline(y=0, color='black', linewidth = 0.5)\n",
        "plt.axvline(0,color = 'black', linewidth = 0.5)\n",
        "plt.xlim([-5,5])\n",
        "plt.ylim([-5,5])\n",
        "plt.scatter(x_std[:,0],x_std[:,1])\n",
        "plt.show()\n"
      ],
      "metadata": {
        "colab": {
          "base_uri": "https://localhost:8080/",
          "height": 430
        },
        "id": "xSyat2BaGUxC",
        "outputId": "0ba678bb-718b-44df-9a21-99470466c6ac"
      },
      "execution_count": null,
      "outputs": [
        {
          "output_type": "display_data",
          "data": {
            "text/plain": [
              "<Figure size 640x480 with 1 Axes>"
            ],
            "image/png": "[encoded data removed]"
          },
          "metadata": {}
        }
      ]
    },
    {
      "cell_type": "code",
      "source": [
        "covariance_matrix = np.cov(x_std.T)\n",
        "print(covariance_matrix)"
      ],
      "metadata": {
        "colab": {
          "base_uri": "https://localhost:8080/"
        },
        "id": "G7tDrS7oKfrQ",
        "outputId": "aaf82d26-09a0-4b48-eea4-482ed3b020d8"
      },
      "execution_count": null,
      "outputs": [
        {
          "output_type": "stream",
          "name": "stdout",
          "text": [
            "[[ 1.01010101 -0.07545014]\n",
            " [-0.07545014  1.01010101]]\n"
          ]
        }
      ]
    },
    {
      "cell_type": "code",
      "source": [
        "# EIGENVECTORES REPRESENTAN LAS DIRECCIONES EN EL ESPACIO DONDE LOS DATOS VARIAN MAS\n",
        "# POR LO QUE DEBEN DE SER ORTGONALES ENTRE SI EN EL ESPACIO DE CARACTERISTICAS\n",
        "\n",
        "def compute_eigenvalues_eigenvectors(covariance_matrix):\n",
        "    eigenvalues, eigenvectors = np.linalg.eig(covariance_matrix)\n",
        "    return eigenvalues, eigenvectors\n",
        "eigenvalues, eigenvectors = compute_eigenvalues_eigenvectors(covariance_matrix)\n",
        "print(eigenvalues)\n",
        "print(eigenvectors)"
      ],
      "metadata": {
        "colab": {
          "base_uri": "https://localhost:8080/"
        },
        "id": "Y-I9dB6pKmQa",
        "outputId": "5f652e60-2bb3-4d80-9a4e-7610038e2090"
      },
      "execution_count": null,
      "outputs": [
        {
          "output_type": "stream",
          "name": "stdout",
          "text": [
            "[1.08555115 0.93465087]\n",
            "[[ 0.70710678  0.70710678]\n",
            " [-0.70710678  0.70710678]]\n"
          ]
        }
      ]
    },
    {
      "cell_type": "code",
      "source": [
        "for eigenvector in eigenvectors:\n",
        "  plt.quiver(0,0,eigenvector[0],eigenvector[1],scale=2,color='g')\n",
        "plt.title('Eigenvectors')\n",
        "plt.xlim([-5,5])\n",
        "plt.ylim([-5,5])\n",
        "plt.axhline(y=0, color='black', linewidth = 0.5)\n",
        "plt.axvline(0,color = 'black', linewidth = 0.5)\n",
        "plt.show()"
      ],
      "metadata": {
        "colab": {
          "base_uri": "https://localhost:8080/",
          "height": 452
        },
        "id": "o35dQV2cM2GB",
        "outputId": "e9a8fb91-759d-40d1-ba69-df55deebcd1f"
      },
      "execution_count": null,
      "outputs": [
        {
          "output_type": "display_data",
          "data": {
            "text/plain": [
              "<Figure size 640x480 with 1 Axes>"
            ],
            "image/png": "[encoded data removed]"
          },
          "metadata": {}
        }
      ]
    },
    {
      "cell_type": "code",
      "source": [
        "eigenvectors"
      ],
      "metadata": {
        "colab": {
          "base_uri": "https://localhost:8080/"
        },
        "id": "FWo-NXbhNc0g",
        "outputId": "584829bc-6e3f-4419-be35-85fc7b04bc5f"
      },
      "execution_count": null,
      "outputs": [
        {
          "output_type": "execute_result",
          "data": {
            "text/plain": [
              "array([[ 0.70710678,  0.70710678],\n",
              "       [-0.70710678,  0.70710678]])"
            ]
          },
          "metadata": {},
          "execution_count": 39
        }
      ]
    },
    {
      "cell_type": "code",
      "source": [
        "np.dot(eigenvectors[:,0],eigenvectors[:,1])"
      ],
      "metadata": {
        "colab": {
          "base_uri": "https://localhost:8080/"
        },
        "id": "ZROSgy_5NmIL",
        "outputId": "7e136855-d692-426e-f1cc-6735d94620a5"
      },
      "execution_count": null,
      "outputs": [
        {
          "output_type": "execute_result",
          "data": {
            "text/plain": [
              "0.0"
            ]
          },
          "metadata": {},
          "execution_count": 41
        }
      ]
    },
    {
      "cell_type": "code",
      "source": [
        "def sort_eigenvalues_eigenvectors(eigenvalues, eigenvectors):\n",
        "    idx = eigenvalues.argsort()[::-1]\n",
        "    eigenvalues = eigenvalues[idx]\n",
        "    eigenvectors = eigenvectors[:, idx]\n",
        "    return eigenvalues, eigenvectors\n"
      ],
      "metadata": {
        "id": "ZnQnD45UTAcI"
      },
      "execution_count": null,
      "outputs": []
    },
    {
      "cell_type": "code",
      "source": [
        "eigenvalues, eigenvectors = sort_eigenvalues_eigenvectors(eigenvalues, eigenvectors)\n",
        "print(eigenvalues)\n",
        "print(eigenvectors)"
      ],
      "metadata": {
        "colab": {
          "base_uri": "https://localhost:8080/"
        },
        "id": "mcqB7Yr6Tu6J",
        "outputId": "4764d819-499f-4107-ba10-8297cdefce69"
      },
      "execution_count": null,
      "outputs": [
        {
          "output_type": "stream",
          "name": "stdout",
          "text": [
            "[1.08555115 0.93465087]\n",
            "[[ 0.70710678  0.70710678]\n",
            " [-0.70710678  0.70710678]]\n"
          ]
        }
      ]
    },
    {
      "cell_type": "code",
      "source": [
        "def select_eigenvectors(eigenvectors, k):\n",
        "    return eigenvectors[:, :k]"
      ],
      "metadata": {
        "id": "d750uRD8Tz2A"
      },
      "execution_count": null,
      "outputs": []
    },
    {
      "cell_type": "code",
      "source": [
        "selected_eigenvectors = select_eigenvectors(eigenvectors, 1)\n",
        "print(selected_eigenvectors)"
      ],
      "metadata": {
        "colab": {
          "base_uri": "https://localhost:8080/"
        },
        "id": "-FL_rJTMUUyC",
        "outputId": "4ae14176-1f62-45c2-908d-268c47f57fa2"
      },
      "execution_count": null,
      "outputs": [
        {
          "output_type": "stream",
          "name": "stdout",
          "text": [
            "[[ 0.70710678]\n",
            " [-0.70710678]]\n"
          ]
        }
      ]
    },
    {
      "cell_type": "code",
      "source": [
        "for eigenvector in selected_eigenvectors.T:\n",
        "  plt.quiver(0,0,eigenvector[0],eigenvector[1],scale=2,color='g')\n",
        "plt.title('Eigenvectors Selected')"
      ],
      "metadata": {
        "colab": {
          "base_uri": "https://localhost:8080/",
          "height": 469
        },
        "id": "TZMbMdTZUajo",
        "outputId": "d1ee0216-62ea-4a10-bcb1-7e2649898472"
      },
      "execution_count": null,
      "outputs": [
        {
          "output_type": "execute_result",
          "data": {
            "text/plain": [
              "Text(0.5, 1.0, 'Eigenvectors Selected')"
            ]
          },
          "metadata": {},
          "execution_count": 53
        },
        {
          "output_type": "display_data",
          "data": {
            "text/plain": [
              "<Figure size 640x480 with 1 Axes>"
            ],
            "image/png": "[encoded data removed]"
          },
          "metadata": {}
        }
      ]
    },
    {
      "cell_type": "code",
      "source": [
        "def transform_data(data, eigenvectors):\n",
        "    return np.dot(data, eigenvectors)"
      ],
      "metadata": {
        "id": "CwP0uVRCV9hA"
      },
      "execution_count": null,
      "outputs": []
    },
    {
      "cell_type": "code",
      "source": [
        "x_transformed = transform_data(x_std, selected_eigenvectors)\n",
        "plt.scatter(x_transformed[:,0],np.zeros(x_transformed.shape[0]))\n",
        "plt.xlim([-5,5])\n",
        "plt.ylim([-5,5])\n",
        "plt.axhline(y=0, color='black', linewidth = 0.5)\n",
        "plt.axvline(0,color = 'black', linewidth = 0.5)\n",
        "plt.title('Transformed Data')\n",
        "plt.show()"
      ],
      "metadata": {
        "colab": {
          "base_uri": "https://localhost:8080/",
          "height": 452
        },
        "id": "o0dL9kaKV_lp",
        "outputId": "647a874c-aba1-4a3b-e154-90804d87064a"
      },
      "execution_count": null,
      "outputs": [
        {
          "output_type": "display_data",
          "data": {
            "text/plain": [
              "<Figure size 640x480 with 1 Axes>"
            ],
            "image/png": "[encoded data removed]"
          },
          "metadata": {}
        }
      ]
    }
  ]
}